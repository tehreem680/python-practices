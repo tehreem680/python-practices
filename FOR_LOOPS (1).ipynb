{
  "nbformat": 4,
  "nbformat_minor": 0,
  "metadata": {
    "colab": {
      "provenance": []
    },
    "kernelspec": {
      "name": "python3",
      "display_name": "Python 3"
    },
    "language_info": {
      "name": "python"
    }
  },
  "cells": [
    {
      "cell_type": "code",
      "execution_count": 2,
      "metadata": {
        "id": "_lD_AiZMiTZJ",
        "colab": {
          "base_uri": "https://localhost:8080/"
        },
        "outputId": "f7843e9d-9775-4c6e-fb81-d5c90f91e4c9"
      },
      "outputs": [
        {
          "output_type": "stream",
          "name": "stdout",
          "text": [
            "kiwi\n"
          ]
        }
      ],
      "source": [
        "fruits = [\"apple\" , \"banana\" , \"cherry\" ]\n",
        "fruits[0]= \"kiwi\"\n",
        "print(fruits[0])"
      ]
    },
    {
      "cell_type": "code",
      "source": [
        "for x in fruits:\n",
        "    print (x)"
      ],
      "metadata": {
        "colab": {
          "base_uri": "https://localhost:8080/"
        },
        "id": "hWATBAX6oo4U",
        "outputId": "72a3f224-d632-4833-963b-910baaf8648b"
      },
      "execution_count": 3,
      "outputs": [
        {
          "output_type": "stream",
          "name": "stdout",
          "text": [
            "kiwi\n",
            "banana\n",
            "cherry\n"
          ]
        }
      ]
    },
    {
      "cell_type": "code",
      "source": [
        "fruits = [\"apple\" , \"banana\" , \"cherry\"]\n",
        "for x in fruits :\n",
        "  print(x)\n",
        "  if x == \"banana\":\n",
        "    break"
      ],
      "metadata": {
        "colab": {
          "base_uri": "https://localhost:8080/"
        },
        "id": "QTXRQYUyozUr",
        "outputId": "36de655e-7085-4e1b-fed3-fd21d6aeb2f7"
      },
      "execution_count": 4,
      "outputs": [
        {
          "output_type": "stream",
          "name": "stdout",
          "text": [
            "apple\n",
            "banana\n"
          ]
        }
      ]
    },
    {
      "cell_type": "code",
      "source": [
        "fruits =[ \"aple\" , \"banana\" , \"cherry\"]\n",
        "for x in fruits :\n",
        "  if x == \"banana\":\n",
        "    break\n",
        "  print (x)"
      ],
      "metadata": {
        "colab": {
          "base_uri": "https://localhost:8080/"
        },
        "id": "Pmf_ILMUpkj6",
        "outputId": "3c4d8e3d-9f2d-4d51-8f90-84e67ce6eb50"
      },
      "execution_count": 6,
      "outputs": [
        {
          "output_type": "stream",
          "name": "stdout",
          "text": [
            "aple\n"
          ]
        }
      ]
    },
    {
      "cell_type": "code",
      "source": [
        "fruits = [\"apple\", \"banana\" ,\"cherry\"]\n",
        "for x in fruits :\n",
        "  if x == \"banana\":\n",
        "    continue\n",
        "  print(x)"
      ],
      "metadata": {
        "colab": {
          "base_uri": "https://localhost:8080/"
        },
        "id": "rULRLt3VsvhU",
        "outputId": "fdc131dc-ce6b-485d-f3ba-0b1a4246540a"
      },
      "execution_count": 13,
      "outputs": [
        {
          "output_type": "stream",
          "name": "stdout",
          "text": [
            "apple\n",
            "cherry\n"
          ]
        }
      ]
    },
    {
      "cell_type": "code",
      "source": [
        "for x in range(6):\n",
        "  print(x)"
      ],
      "metadata": {
        "colab": {
          "base_uri": "https://localhost:8080/"
        },
        "id": "mdXEGpdPt2Px",
        "outputId": "00693e1a-1269-4152-a489-32a1bae509a9"
      },
      "execution_count": 15,
      "outputs": [
        {
          "output_type": "stream",
          "name": "stdout",
          "text": [
            "0\n",
            "1\n",
            "2\n",
            "3\n",
            "4\n",
            "5\n"
          ]
        }
      ]
    },
    {
      "cell_type": "code",
      "source": [
        "for x in range(2, 30, 3):\n",
        "  print(x)"
      ],
      "metadata": {
        "colab": {
          "base_uri": "https://localhost:8080/"
        },
        "id": "AQmLMh-xs_7j",
        "outputId": "7cc623f0-3db6-4d1f-919d-cab93687e64c"
      },
      "execution_count": 16,
      "outputs": [
        {
          "output_type": "stream",
          "name": "stdout",
          "text": [
            "2\n",
            "5\n",
            "8\n",
            "11\n",
            "14\n",
            "17\n",
            "20\n",
            "23\n",
            "26\n",
            "29\n"
          ]
        }
      ]
    },
    {
      "cell_type": "code",
      "source": [
        "fruits = [\"apple\", \"banana\", \"cherry\"]\n",
        "for x in fruits:\n",
        "    if x == \"banana\":\n",
        "        break\n",
        "    print(x)\n",
        "else:\n",
        "    print(\"Finished iterating without a break.\")"
      ],
      "metadata": {
        "colab": {
          "base_uri": "https://localhost:8080/"
        },
        "id": "oOGoyTSFvQSP",
        "outputId": "cd84cd9f-8870-4792-8a01-9e4abcac6f39"
      },
      "execution_count": 17,
      "outputs": [
        {
          "output_type": "stream",
          "name": "stdout",
          "text": [
            "apple\n"
          ]
        }
      ]
    },
    {
      "cell_type": "code",
      "source": [
        "fruits = [\"apple\", \"banana\", \"cherry\"]\n",
        "for x in fruits:\n",
        "    print(x)\n",
        "else:\n",
        "    print(\"Finished iterating without a break.\")\n",
        ""
      ],
      "metadata": {
        "colab": {
          "base_uri": "https://localhost:8080/"
        },
        "id": "ikJqbvy6wWtc",
        "outputId": "a67dc23b-2188-4315-b1c7-62175b53d74b"
      },
      "execution_count": 18,
      "outputs": [
        {
          "output_type": "stream",
          "name": "stdout",
          "text": [
            "apple\n",
            "banana\n",
            "cherry\n",
            "Finished iterating without a break.\n"
          ]
        }
      ]
    },
    {
      "cell_type": "code",
      "source": [
        "for i in range(3):  # Outer loop\n",
        "    print(f\"Outer loop iteration {i}\")\n",
        "    for j in range(2):  # Inner loop\n",
        "        print(f\"  Inner loop iteration {j}\")"
      ],
      "metadata": {
        "colab": {
          "base_uri": "https://localhost:8080/"
        },
        "id": "bHbU7-k2wk1D",
        "outputId": "d654b3ad-2642-4d17-eadc-86abb6614753"
      },
      "execution_count": 19,
      "outputs": [
        {
          "output_type": "stream",
          "name": "stdout",
          "text": [
            "Outer loop iteration 0\n",
            "  Inner loop iteration 0\n",
            "  Inner loop iteration 1\n",
            "Outer loop iteration 1\n",
            "  Inner loop iteration 0\n",
            "  Inner loop iteration 1\n",
            "Outer loop iteration 2\n",
            "  Inner loop iteration 0\n",
            "  Inner loop iteration 1\n"
          ]
        }
      ]
    },
    {
      "cell_type": "code",
      "source": [
        "adj = [\"red\" ,\"big\" , \"tasty\"]\n",
        "fruits = [\"apple\" , \"banana\" , \"cherry\"]\n",
        "for x in adj:\n",
        "    for y in fruits:\n",
        "        print (x,y)"
      ],
      "metadata": {
        "colab": {
          "base_uri": "https://localhost:8080/"
        },
        "id": "T1MnsAFaxeAj",
        "outputId": "6050b369-360d-4ebb-929e-bcfe7a924310"
      },
      "execution_count": 20,
      "outputs": [
        {
          "output_type": "stream",
          "name": "stdout",
          "text": [
            "red apple\n",
            "red banana\n",
            "red cherry\n",
            "big apple\n",
            "big banana\n",
            "big cherry\n",
            "tasty apple\n",
            "tasty banana\n",
            "tasty cherry\n"
          ]
        }
      ]
    },
    {
      "cell_type": "code",
      "source": [
        "for x in [0, 1, 2]:\n",
        "  pass"
      ],
      "metadata": {
        "id": "qKcDUxAi03IE"
      },
      "execution_count": 21,
      "outputs": []
    }
  ]
}